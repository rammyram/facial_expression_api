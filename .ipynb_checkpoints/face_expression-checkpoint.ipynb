{
 "cells": [
  {
   "cell_type": "code",
   "execution_count": 2,
   "metadata": {
    "colab": {
     "base_uri": "https://localhost:8080/",
     "height": 34
    },
    "colab_type": "code",
    "executionInfo": {
     "elapsed": 2559,
     "status": "ok",
     "timestamp": 1563423176754,
     "user": {
      "displayName": "Bhargav Vadlamudi",
      "photoUrl": "https://lh6.googleusercontent.com/-gP0i6GtW3EI/AAAAAAAAAAI/AAAAAAAALM4/NMQYDBQlknI/s64/photo.jpg",
      "userId": "05658260374509821760"
     },
     "user_tz": -420
    },
    "id": "DHxftRl-uehx",
    "outputId": "22c3267a-a38a-4771-bea7-e3e0d72cefb4"
   },
   "outputs": [
    {
     "name": "stderr",
     "output_type": "stream",
     "text": [
      "Using TensorFlow backend.\n"
     ]
    }
   ],
   "source": [
    "import os \n",
    "import sys\n",
    "import cv2\n",
    "import numpy as np\n",
    "import pandas  as pd\n",
    "\n",
    "import matplotlib.pyplot as plt \n",
    "% matplotlib inline\n",
    "\n",
    "import keras \n",
    "from keras.preprocessing.image import ImageDataGenerator\n",
    "from keras.utils import to_categorical"
   ]
  },
  {
   "cell_type": "code",
   "execution_count": 3,
   "metadata": {
    "colab": {
     "base_uri": "https://localhost:8080/",
     "height": 122
    },
    "colab_type": "code",
    "executionInfo": {
     "elapsed": 33621,
     "status": "ok",
     "timestamp": 1563423212374,
     "user": {
      "displayName": "Bhargav Vadlamudi",
      "photoUrl": "https://lh6.googleusercontent.com/-gP0i6GtW3EI/AAAAAAAAAAI/AAAAAAAALM4/NMQYDBQlknI/s64/photo.jpg",
      "userId": "05658260374509821760"
     },
     "user_tz": -420
    },
    "id": "MZ9xHNdlkmCh",
    "outputId": "7023b9df-d86a-4cda-afc1-b7cbbe85aaeb"
   },
   "outputs": [
    {
     "name": "stdout",
     "output_type": "stream",
     "text": [
      "Go to this URL in a browser: https://accounts.google.com/o/oauth2/auth?client_id=947318989803-6bn6qk8qdgf4n4g3pfee6491hc0brc4i.apps.googleusercontent.com&redirect_uri=urn%3Aietf%3Awg%3Aoauth%3A2.0%3Aoob&scope=email%20https%3A%2F%2Fwww.googleapis.com%2Fauth%2Fdocs.test%20https%3A%2F%2Fwww.googleapis.com%2Fauth%2Fdrive%20https%3A%2F%2Fwww.googleapis.com%2Fauth%2Fdrive.photos.readonly%20https%3A%2F%2Fwww.googleapis.com%2Fauth%2Fpeopleapi.readonly&response_type=code\n",
      "\n",
      "Enter your authorization code:\n",
      "··········\n",
      "Mounted at /content/drive\n"
     ]
    }
   ],
   "source": [
    "from google.colab import drive\n",
    "drive.mount('/content/drive')"
   ]
  },
  {
   "cell_type": "code",
   "execution_count": 4,
   "metadata": {
    "colab": {
     "base_uri": "https://localhost:8080/",
     "height": 34
    },
    "colab_type": "code",
    "executionInfo": {
     "elapsed": 1264,
     "status": "ok",
     "timestamp": 1563423214380,
     "user": {
      "displayName": "Bhargav Vadlamudi",
      "photoUrl": "https://lh6.googleusercontent.com/-gP0i6GtW3EI/AAAAAAAAAAI/AAAAAAAALM4/NMQYDBQlknI/s64/photo.jpg",
      "userId": "05658260374509821760"
     },
     "user_tz": -420
    },
    "id": "_ChhGkhtx5zd",
    "outputId": "9848013a-76c4-4d8c-c7fb-8698f53503e3"
   },
   "outputs": [
    {
     "name": "stdout",
     "output_type": "stream",
     "text": [
      "/content/drive/My Drive/Colab Notebooks/CNN/Facial Expression Detection\n"
     ]
    }
   ],
   "source": [
    "cd 'drive/My Drive/Colab Notebooks/CNN/Facial Expression Detection'"
   ]
  },
  {
   "cell_type": "code",
   "execution_count": 0,
   "metadata": {
    "colab": {},
    "colab_type": "code",
    "id": "zYOaFQBlu_Rq"
   },
   "outputs": [],
   "source": [
    "label_names = ['Angry', 'Disgust', 'Fear', 'Happy', 'Sad', 'Surprise', 'Neutral']"
   ]
  },
  {
   "cell_type": "code",
   "execution_count": 0,
   "metadata": {
    "colab": {},
    "colab_type": "code",
    "id": "nhbSn4w341rN"
   },
   "outputs": [],
   "source": [
    "df = pd.read_csv('fer2013.csv')"
   ]
  },
  {
   "cell_type": "code",
   "execution_count": 0,
   "metadata": {
    "colab": {
     "base_uri": "https://localhost:8080/",
     "height": 204
    },
    "colab_type": "code",
    "executionInfo": {
     "elapsed": 1849,
     "status": "ok",
     "timestamp": 1563367818153,
     "user": {
      "displayName": "Bhargav Vadlamudi",
      "photoUrl": "https://lh6.googleusercontent.com/-gP0i6GtW3EI/AAAAAAAAAAI/AAAAAAAALM4/NMQYDBQlknI/s64/photo.jpg",
      "userId": "05658260374509821760"
     },
     "user_tz": -420
    },
    "id": "Z5-vZXka0HmG",
    "outputId": "827e0948-6e6a-4133-e369-d560873890e2"
   },
   "outputs": [
    {
     "data": {
      "text/html": [
       "<div>\n",
       "<style scoped>\n",
       "    .dataframe tbody tr th:only-of-type {\n",
       "        vertical-align: middle;\n",
       "    }\n",
       "\n",
       "    .dataframe tbody tr th {\n",
       "        vertical-align: top;\n",
       "    }\n",
       "\n",
       "    .dataframe thead th {\n",
       "        text-align: right;\n",
       "    }\n",
       "</style>\n",
       "<table border=\"1\" class=\"dataframe\">\n",
       "  <thead>\n",
       "    <tr style=\"text-align: right;\">\n",
       "      <th></th>\n",
       "      <th>emotion</th>\n",
       "      <th>pixels</th>\n",
       "      <th>Usage</th>\n",
       "    </tr>\n",
       "  </thead>\n",
       "  <tbody>\n",
       "    <tr>\n",
       "      <th>0</th>\n",
       "      <td>0</td>\n",
       "      <td>70 80 82 72 58 58 60 63 54 58 60 48 89 115 121...</td>\n",
       "      <td>Training</td>\n",
       "    </tr>\n",
       "    <tr>\n",
       "      <th>1</th>\n",
       "      <td>0</td>\n",
       "      <td>151 150 147 155 148 133 111 140 170 174 182 15...</td>\n",
       "      <td>Training</td>\n",
       "    </tr>\n",
       "    <tr>\n",
       "      <th>2</th>\n",
       "      <td>2</td>\n",
       "      <td>231 212 156 164 174 138 161 173 182 200 106 38...</td>\n",
       "      <td>Training</td>\n",
       "    </tr>\n",
       "    <tr>\n",
       "      <th>3</th>\n",
       "      <td>4</td>\n",
       "      <td>24 32 36 30 32 23 19 20 30 41 21 22 32 34 21 1...</td>\n",
       "      <td>Training</td>\n",
       "    </tr>\n",
       "    <tr>\n",
       "      <th>4</th>\n",
       "      <td>6</td>\n",
       "      <td>4 0 0 0 0 0 0 0 0 0 0 0 3 15 23 28 48 50 58 84...</td>\n",
       "      <td>Training</td>\n",
       "    </tr>\n",
       "  </tbody>\n",
       "</table>\n",
       "</div>"
      ],
      "text/plain": [
       "   emotion                                             pixels     Usage\n",
       "0        0  70 80 82 72 58 58 60 63 54 58 60 48 89 115 121...  Training\n",
       "1        0  151 150 147 155 148 133 111 140 170 174 182 15...  Training\n",
       "2        2  231 212 156 164 174 138 161 173 182 200 106 38...  Training\n",
       "3        4  24 32 36 30 32 23 19 20 30 41 21 22 32 34 21 1...  Training\n",
       "4        6  4 0 0 0 0 0 0 0 0 0 0 0 3 15 23 28 48 50 58 84...  Training"
      ]
     },
     "execution_count": 129,
     "metadata": {
      "tags": []
     },
     "output_type": "execute_result"
    }
   ],
   "source": [
    "df.head()"
   ]
  },
  {
   "cell_type": "code",
   "execution_count": 0,
   "metadata": {
    "colab": {
     "base_uri": "https://localhost:8080/",
     "height": 85
    },
    "colab_type": "code",
    "executionInfo": {
     "elapsed": 1532,
     "status": "ok",
     "timestamp": 1563367903334,
     "user": {
      "displayName": "Bhargav Vadlamudi",
      "photoUrl": "https://lh6.googleusercontent.com/-gP0i6GtW3EI/AAAAAAAAAAI/AAAAAAAALM4/NMQYDBQlknI/s64/photo.jpg",
      "userId": "05658260374509821760"
     },
     "user_tz": -420
    },
    "id": "Ns5e1R_a1Z6k",
    "outputId": "ef873e2b-bab3-436d-9e1d-c389feaa548e"
   },
   "outputs": [
    {
     "data": {
      "text/plain": [
       "emotion    0\n",
       "pixels     0\n",
       "Usage      0\n",
       "dtype: int64"
      ]
     },
     "execution_count": 134,
     "metadata": {
      "tags": []
     },
     "output_type": "execute_result"
    }
   ],
   "source": [
    "df.isnull().sum()"
   ]
  },
  {
   "cell_type": "code",
   "execution_count": 0,
   "metadata": {
    "colab": {
     "base_uri": "https://localhost:8080/",
     "height": 34
    },
    "colab_type": "code",
    "executionInfo": {
     "elapsed": 1524,
     "status": "ok",
     "timestamp": 1563369133733,
     "user": {
      "displayName": "Bhargav Vadlamudi",
      "photoUrl": "https://lh6.googleusercontent.com/-gP0i6GtW3EI/AAAAAAAAAAI/AAAAAAAALM4/NMQYDBQlknI/s64/photo.jpg",
      "userId": "05658260374509821760"
     },
     "user_tz": -420
    },
    "id": "7QbeKTNb3r6F",
    "outputId": "2bcbc7ca-c92d-4020-ba02-1d5e28994fc6"
   },
   "outputs": [
    {
     "data": {
      "text/plain": [
       "436"
      ]
     },
     "execution_count": 165,
     "metadata": {
      "tags": []
     },
     "output_type": "execute_result"
    }
   ],
   "source": [
    "(df[df.Usage =='Training'].emotion == 1).sum()"
   ]
  },
  {
   "cell_type": "code",
   "execution_count": 0,
   "metadata": {
    "colab": {},
    "colab_type": "code",
    "id": "9WRhnHg46ILm"
   },
   "outputs": [],
   "source": [
    "# View Image :\n",
    "def view_images(pixels):\n",
    "  '''\n",
    "  View Images : accepts input as array of pixels for each image \n",
    "  '''\n",
    "  plt.figure(figsize=(12,20))\n",
    "\n",
    "  for i in range(0,len(pixels)):\n",
    "    img = pixels[i]\n",
    "    val =img.split(' ')\n",
    "    img_pix = np.array(val , np.float32)\n",
    "    img_pix /= 255.0\n",
    "    img_reshape = img_pix.reshape((48,48))\n",
    "    plt.subplot(5,5,i+1)\n",
    "    plt.imshow(img_reshape , cmap='gray')\n",
    "\n",
    "  plt.show()"
   ]
  },
  {
   "cell_type": "code",
   "execution_count": 0,
   "metadata": {
    "colab": {
     "base_uri": "https://localhost:8080/",
     "height": 392
    },
    "colab_type": "code",
    "executionInfo": {
     "elapsed": 2985,
     "status": "ok",
     "timestamp": 1563358664247,
     "user": {
      "displayName": "Bhargav Vadlamudi",
      "photoUrl": "https://lh6.googleusercontent.com/-gP0i6GtW3EI/AAAAAAAAAAI/AAAAAAAALM4/NMQYDBQlknI/s64/photo.jpg",
      "userId": "05658260374509821760"
     },
     "user_tz": -420
    },
    "id": "slfkN0Lf6JYg",
    "outputId": "d6cda447-1973-4931-c204-3c8a67e57fe3"
   },
   "outputs": [
    {
     "data": {
      "image/png": "[encoded data removed]",
      "text/plain": [
       "<Figure size 864x1440 with 10 Axes>"
      ]
     },
     "metadata": {
      "tags": []
     },
     "output_type": "display_data"
    }
   ],
   "source": [
    "pixels = df.pixels[ :10 ]\n",
    "view_images(pixels)\n",
    "# size of the image: 48*48 pixels\n"
   ]
  },
  {
   "cell_type": "code",
   "execution_count": 0,
   "metadata": {
    "colab": {},
    "colab_type": "code",
    "id": "sYoDiB7vUhul"
   },
   "outputs": [],
   "source": [
    "# Setup Train and Test Data :\n",
    "pic_size = (48,48)\n",
    "x_train , y_train , x_test, y_test = [] , [] , [] , [] \n",
    "num_classes  = len(df.emotion.unique())\n",
    "for i in range( 0 , len(df) ):\n",
    "  img = df.pixels[i]\n",
    "  val = img.split(' ')\n",
    "  img_pix = np.array(val , np.float32) \n",
    "  img_pix = img_pix.reshape(pic_size)\n",
    "  emotion = to_categorical( df.emotion[i] , num_classes )\n",
    "  if df.Usage[i] == 'Training':\n",
    "    x_train.append(img_pix)\n",
    "    y_train.append(emotion)\n",
    "  if df.Usage[i] == 'PublicTest':\n",
    "    x_test.append(img_pix)\n",
    "    y_test.append(emotion)"
   ]
  },
  {
   "cell_type": "code",
   "execution_count": 0,
   "metadata": {
    "colab": {
     "base_uri": "https://localhost:8080/",
     "height": 34
    },
    "colab_type": "code",
    "executionInfo": {
     "elapsed": 1446,
     "status": "ok",
     "timestamp": 1563359081123,
     "user": {
      "displayName": "Bhargav Vadlamudi",
      "photoUrl": "https://lh6.googleusercontent.com/-gP0i6GtW3EI/AAAAAAAAAAI/AAAAAAAALM4/NMQYDBQlknI/s64/photo.jpg",
      "userId": "05658260374509821760"
     },
     "user_tz": -420
    },
    "id": "CpFPy00xcFnu",
    "outputId": "18082ddc-0bd8-464e-874a-cf3417659582"
   },
   "outputs": [
    {
     "data": {
      "text/plain": [
       "(28709, 48, 48, 1)"
      ]
     },
     "execution_count": 28,
     "metadata": {
      "tags": []
     },
     "output_type": "execute_result"
    }
   ],
   "source": [
    "np.expand_dims(x_train,axis=3).shape"
   ]
  },
  {
   "cell_type": "code",
   "execution_count": 0,
   "metadata": {
    "colab": {},
    "colab_type": "code",
    "id": "jVD4V0Ljs6sb"
   },
   "outputs": [],
   "source": [
    "x_train = np.expand_dims(x_train,axis=3)\n",
    "x_test  = np.expand_dims(x_test,axis=3)"
   ]
  },
  {
   "cell_type": "code",
   "execution_count": 0,
   "metadata": {
    "colab": {},
    "colab_type": "code",
    "id": "9DZO7K0HqNG-"
   },
   "outputs": [],
   "source": [
    "# Now create generator for the train and valid datasets :\n",
    "batch_size=50\n",
    "gen = ImageDataGenerator()\n",
    "train_gen = gen.flow( x_train , y_train , batch_size=batch_size)\n",
    "\n",
    "\n",
    "gen = ImageDataGenerator()\n",
    "test_gen = gen.flow(x_test, y_test , batch_size=batch_size)\n",
    "\n"
   ]
  },
  {
   "cell_type": "code",
   "execution_count": 0,
   "metadata": {
    "colab": {
     "base_uri": "https://localhost:8080/",
     "height": 1000
    },
    "colab_type": "code",
    "executionInfo": {
     "elapsed": 2306,
     "status": "ok",
     "timestamp": 1563376833695,
     "user": {
      "displayName": "Bhargav Vadlamudi",
      "photoUrl": "https://lh6.googleusercontent.com/-gP0i6GtW3EI/AAAAAAAAAAI/AAAAAAAALM4/NMQYDBQlknI/s64/photo.jpg",
      "userId": "05658260374509821760"
     },
     "user_tz": -420
    },
    "id": "mvmh_Gh8Uj2K",
    "outputId": "1a7cf100-7e31-4ba8-8ddf-2cf3e23534d5"
   },
   "outputs": [
    {
     "name": "stdout",
     "output_type": "stream",
     "text": [
      "_________________________________________________________________\n",
      "Layer (type)                 Output Shape              Param #   \n",
      "=================================================================\n",
      "conv2d_33 (Conv2D)           (None, 48, 48, 64)        640       \n",
      "_________________________________________________________________\n",
      "batch_normalization_37 (Batc (None, 48, 48, 64)        256       \n",
      "_________________________________________________________________\n",
      "activation_43 (Activation)   (None, 48, 48, 64)        0         \n",
      "_________________________________________________________________\n",
      "max_pooling2d_27 (MaxPooling (None, 24, 24, 64)        0         \n",
      "_________________________________________________________________\n",
      "dropout_39 (Dropout)         (None, 24, 24, 64)        0         \n",
      "_________________________________________________________________\n",
      "conv2d_34 (Conv2D)           (None, 24, 24, 128)       73856     \n",
      "_________________________________________________________________\n",
      "batch_normalization_38 (Batc (None, 24, 24, 128)       512       \n",
      "_________________________________________________________________\n",
      "activation_44 (Activation)   (None, 24, 24, 128)       0         \n",
      "_________________________________________________________________\n",
      "max_pooling2d_28 (MaxPooling (None, 12, 12, 128)       0         \n",
      "_________________________________________________________________\n",
      "dropout_40 (Dropout)         (None, 12, 12, 128)       0         \n",
      "_________________________________________________________________\n",
      "conv2d_35 (Conv2D)           (None, 12, 12, 256)       295168    \n",
      "_________________________________________________________________\n",
      "batch_normalization_39 (Batc (None, 12, 12, 256)       1024      \n",
      "_________________________________________________________________\n",
      "activation_45 (Activation)   (None, 12, 12, 256)       0         \n",
      "_________________________________________________________________\n",
      "max_pooling2d_29 (MaxPooling (None, 6, 6, 256)         0         \n",
      "_________________________________________________________________\n",
      "dropout_41 (Dropout)         (None, 6, 6, 256)         0         \n",
      "_________________________________________________________________\n",
      "conv2d_36 (Conv2D)           (None, 6, 6, 512)         1180160   \n",
      "_________________________________________________________________\n",
      "batch_normalization_40 (Batc (None, 6, 6, 512)         2048      \n",
      "_________________________________________________________________\n",
      "activation_46 (Activation)   (None, 6, 6, 512)         0         \n",
      "_________________________________________________________________\n",
      "max_pooling2d_30 (MaxPooling (None, 3, 3, 512)         0         \n",
      "_________________________________________________________________\n",
      "dropout_42 (Dropout)         (None, 3, 3, 512)         0         \n",
      "_________________________________________________________________\n",
      "flatten_8 (Flatten)          (None, 4608)              0         \n",
      "_________________________________________________________________\n",
      "dense_22 (Dense)             (None, 256)               1179904   \n",
      "_________________________________________________________________\n",
      "batch_normalization_41 (Batc (None, 256)               1024      \n",
      "_________________________________________________________________\n",
      "activation_47 (Activation)   (None, 256)               0         \n",
      "_________________________________________________________________\n",
      "dropout_43 (Dropout)         (None, 256)               0         \n",
      "_________________________________________________________________\n",
      "dense_23 (Dense)             (None, 512)               131584    \n",
      "_________________________________________________________________\n",
      "batch_normalization_42 (Batc (None, 512)               2048      \n",
      "_________________________________________________________________\n",
      "activation_48 (Activation)   (None, 512)               0         \n",
      "_________________________________________________________________\n",
      "dropout_44 (Dropout)         (None, 512)               0         \n",
      "_________________________________________________________________\n",
      "dense_24 (Dense)             (None, 7)                 3591      \n",
      "_________________________________________________________________\n",
      "activation_49 (Activation)   (None, 7)                 0         \n",
      "=================================================================\n",
      "Total params: 2,871,815\n",
      "Trainable params: 2,868,359\n",
      "Non-trainable params: 3,456\n",
      "_________________________________________________________________\n"
     ]
    }
   ],
   "source": [
    "from keras.layers import Dense , Conv2D , Flatten , Dropout , MaxPooling2D , GlobalAveragePooling2D , Activation , BatchNormalization\n",
    "from keras.models import Sequential, Model\n",
    "from keras.optimizers import Adam\n",
    "from keras.losses import categorical_crossentropy\n",
    "\n",
    "# Construct a CNN structure :\n",
    "\n",
    "num_classes  = len(df.emotion.unique())\n",
    "model = Sequential()\n",
    "\n",
    "# 1 Conv Layer :\n",
    "model.add(Conv2D( filters = 64 , kernel_size=(3,3) , padding = 'same' , input_shape =x_train.shape[1:] ))\n",
    "model.add(BatchNormalization())\n",
    "model.add(Activation('relu'))\n",
    "model.add(MaxPooling2D( pool_size=(2,2) ))\n",
    "model.add(Dropout(0.25))\n",
    "\n",
    "# 2 Conv Layer :\n",
    "model.add(Conv2D( filters = 128 , kernel_size=(3,3) , padding = 'same'   ))\n",
    "model.add(BatchNormalization())\n",
    "model.add(Activation('relu'))\n",
    "model.add(MaxPooling2D( pool_size=(2,2) ))\n",
    "model.add(Dropout(0.25))\n",
    "\n",
    "\n",
    "# 3 Conv Layer :\n",
    "model.add(Conv2D( filters = 256 , kernel_size=(3,3) , padding = 'same'))\n",
    "model.add(BatchNormalization())\n",
    "model.add(Activation('relu'))\n",
    "model.add(MaxPooling2D( pool_size=(2,2) ))\n",
    "model.add(Dropout(0.25))\n",
    "\n",
    "\n",
    "# 4 Conv Layer :\n",
    "model.add(Conv2D( filters = 512 , kernel_size=(3,3) , padding = 'same' ))\n",
    "model.add(BatchNormalization())\n",
    "model.add(Activation('relu'))\n",
    "model.add(MaxPooling2D( pool_size=(2,2) ))\n",
    "model.add(Dropout(0.25))\n",
    "\n",
    "# flat :\n",
    "model.add(Flatten())\n",
    "\n",
    "# Fully Connected 1st Layer :\n",
    "model.add(Dense(256))\n",
    "model.add(BatchNormalization())\n",
    "model.add(Activation('relu'))\n",
    "model.add(Dropout(0.25))\n",
    "\n",
    "# Fully Connected 2st Layer :\n",
    "model.add(Dense(512))\n",
    "model.add(BatchNormalization())\n",
    "model.add(Activation('relu'))\n",
    "model.add(Dropout(0.25))\n",
    "\n",
    "# Final softmax \n",
    "model.add(Dense(num_classes))\n",
    "model.add(Activation('softmax'))\n",
    "\n",
    "# compile \n",
    "model.compile( optimizer=Adam() , loss = categorical_crossentropy , metrics = ['accuracy'] )\n",
    "\n",
    "model.summary()"
   ]
  },
  {
   "cell_type": "code",
   "execution_count": 0,
   "metadata": {
    "colab": {
     "base_uri": "https://localhost:8080/",
     "height": 1000
    },
    "colab_type": "code",
    "executionInfo": {
     "elapsed": 1742175,
     "status": "ok",
     "timestamp": 1563378578976,
     "user": {
      "displayName": "Bhargav Vadlamudi",
      "photoUrl": "https://lh6.googleusercontent.com/-gP0i6GtW3EI/AAAAAAAAAAI/AAAAAAAALM4/NMQYDBQlknI/s64/photo.jpg",
      "userId": "05658260374509821760"
     },
     "user_tz": -420
    },
    "id": "AUdZCCxziBbF",
    "outputId": "1f54e23f-6f06-4560-acb5-4632a44bfbca"
   },
   "outputs": [
    {
     "name": "stdout",
     "output_type": "stream",
     "text": [
      "Epoch 1/50\n",
      "574/574 [==============================] - 39s 68ms/step - loss: 1.7428 - acc: 0.3315 - val_loss: 1.5117 - val_acc: 0.4127\n",
      "\n",
      "Epoch 00001: val_loss improved from inf to 1.51170, saving model to checkpoint/model_wts.h5\n",
      "Epoch 2/50\n",
      "574/574 [==============================] - 35s 61ms/step - loss: 1.3884 - acc: 0.4684 - val_loss: 1.3509 - val_acc: 0.4789\n",
      "\n",
      "Epoch 00002: val_loss improved from 1.51170 to 1.35089, saving model to checkpoint/model_wts.h5\n",
      "Epoch 3/50\n",
      "574/574 [==============================] - 34s 60ms/step - loss: 1.2661 - acc: 0.5166 - val_loss: 1.3604 - val_acc: 0.4676\n",
      "\n",
      "Epoch 00003: val_loss did not improve from 1.35089\n",
      "Epoch 4/50\n",
      "574/574 [==============================] - 34s 60ms/step - loss: 1.1937 - acc: 0.5467 - val_loss: 1.2673 - val_acc: 0.5179\n",
      "\n",
      "Epoch 00004: val_loss improved from 1.35089 to 1.26728, saving model to checkpoint/model_wts.h5\n",
      "Epoch 5/50\n",
      "574/574 [==============================] - 35s 60ms/step - loss: 1.1417 - acc: 0.5692 - val_loss: 1.1473 - val_acc: 0.5634\n",
      "\n",
      "Epoch 00005: val_loss improved from 1.26728 to 1.14725, saving model to checkpoint/model_wts.h5\n",
      "Epoch 6/50\n",
      "574/574 [==============================] - 34s 60ms/step - loss: 1.0909 - acc: 0.5865 - val_loss: 1.1459 - val_acc: 0.5654\n",
      "\n",
      "Epoch 00006: val_loss improved from 1.14725 to 1.14589, saving model to checkpoint/model_wts.h5\n",
      "Epoch 7/50\n",
      "574/574 [==============================] - 35s 60ms/step - loss: 1.0520 - acc: 0.6030 - val_loss: 1.1849 - val_acc: 0.5462\n",
      "\n",
      "Epoch 00007: val_loss did not improve from 1.14589\n",
      "Epoch 8/50\n",
      "574/574 [==============================] - 35s 60ms/step - loss: 1.0105 - acc: 0.6195 - val_loss: 1.0808 - val_acc: 0.5925\n",
      "\n",
      "Epoch 00008: val_loss improved from 1.14589 to 1.08077, saving model to checkpoint/model_wts.h5\n",
      "Epoch 9/50\n",
      "574/574 [==============================] - 35s 60ms/step - loss: 0.9678 - acc: 0.6327 - val_loss: 1.1357 - val_acc: 0.5665\n",
      "\n",
      "Epoch 00009: val_loss did not improve from 1.08077\n",
      "Epoch 10/50\n",
      "574/574 [==============================] - 34s 60ms/step - loss: 0.9287 - acc: 0.6514 - val_loss: 1.0393 - val_acc: 0.6112\n",
      "\n",
      "Epoch 00010: val_loss improved from 1.08077 to 1.03932, saving model to checkpoint/model_wts.h5\n",
      "Epoch 11/50\n",
      "574/574 [==============================] - 34s 60ms/step - loss: 0.8846 - acc: 0.6666 - val_loss: 1.0465 - val_acc: 0.6140\n",
      "\n",
      "Epoch 00011: val_loss did not improve from 1.03932\n",
      "Epoch 12/50\n",
      "574/574 [==============================] - 34s 60ms/step - loss: 0.8398 - acc: 0.6857 - val_loss: 1.0938 - val_acc: 0.5886\n",
      "\n",
      "Epoch 00012: val_loss did not improve from 1.03932\n",
      "Epoch 13/50\n",
      "574/574 [==============================] - 34s 59ms/step - loss: 0.8018 - acc: 0.6965 - val_loss: 1.0998 - val_acc: 0.6005\n",
      "\n",
      "Epoch 00013: val_loss did not improve from 1.03932\n",
      "Epoch 14/50\n",
      "574/574 [==============================] - 34s 60ms/step - loss: 0.7572 - acc: 0.7173 - val_loss: 1.1778 - val_acc: 0.5759\n",
      "\n",
      "Epoch 00014: val_loss did not improve from 1.03932\n",
      "Epoch 15/50\n",
      "574/574 [==============================] - 34s 60ms/step - loss: 0.7183 - acc: 0.7314 - val_loss: 1.0896 - val_acc: 0.6038\n",
      "\n",
      "Epoch 00015: val_loss did not improve from 1.03932\n",
      "Epoch 16/50\n",
      "574/574 [==============================] - 34s 60ms/step - loss: 0.6764 - acc: 0.7496 - val_loss: 1.0856 - val_acc: 0.6321\n",
      "\n",
      "Epoch 00016: val_loss did not improve from 1.03932\n",
      "Epoch 17/50\n",
      "574/574 [==============================] - 34s 60ms/step - loss: 0.6376 - acc: 0.7600 - val_loss: 1.0794 - val_acc: 0.6363\n",
      "\n",
      "Epoch 00017: val_loss did not improve from 1.03932\n",
      "Epoch 18/50\n",
      "574/574 [==============================] - 34s 60ms/step - loss: 0.6013 - acc: 0.7758 - val_loss: 1.2162 - val_acc: 0.5875\n",
      "\n",
      "Epoch 00018: val_loss did not improve from 1.03932\n",
      "Epoch 19/50\n",
      "574/574 [==============================] - 34s 60ms/step - loss: 0.5665 - acc: 0.7902 - val_loss: 1.1997 - val_acc: 0.5985\n",
      "\n",
      "Epoch 00019: val_loss did not improve from 1.03932\n",
      "Epoch 20/50\n",
      "574/574 [==============================] - 34s 60ms/step - loss: 0.5450 - acc: 0.7998 - val_loss: 1.1973 - val_acc: 0.6219\n",
      "\n",
      "Epoch 00020: val_loss did not improve from 1.03932\n",
      "Epoch 21/50\n",
      "574/574 [==============================] - 34s 60ms/step - loss: 0.5086 - acc: 0.8115 - val_loss: 1.2989 - val_acc: 0.6106\n",
      "\n",
      "Epoch 00021: val_loss did not improve from 1.03932\n",
      "Epoch 22/50\n",
      "574/574 [==============================] - 34s 60ms/step - loss: 0.4839 - acc: 0.8242 - val_loss: 1.3727 - val_acc: 0.5877\n",
      "\n",
      "Epoch 00022: val_loss did not improve from 1.03932\n",
      "Epoch 23/50\n",
      "574/574 [==============================] - 35s 60ms/step - loss: 0.4642 - acc: 0.8295 - val_loss: 1.2904 - val_acc: 0.5993\n",
      "\n",
      "Epoch 00023: val_loss did not improve from 1.03932\n",
      "Epoch 24/50\n",
      "574/574 [==============================] - 34s 60ms/step - loss: 0.4409 - acc: 0.8380 - val_loss: 1.4054 - val_acc: 0.6070\n",
      "\n",
      "Epoch 00024: val_loss did not improve from 1.03932\n",
      "Epoch 25/50\n",
      "574/574 [==============================] - 34s 60ms/step - loss: 0.4189 - acc: 0.8469 - val_loss: 1.3112 - val_acc: 0.6341\n",
      "\n",
      "Epoch 00025: val_loss did not improve from 1.03932\n",
      "Epoch 26/50\n",
      "574/574 [==============================] - 34s 60ms/step - loss: 0.4059 - acc: 0.8526 - val_loss: 1.3472 - val_acc: 0.6078\n",
      "\n",
      "Epoch 00026: val_loss did not improve from 1.03932\n",
      "Epoch 27/50\n",
      "574/574 [==============================] - 34s 60ms/step - loss: 0.3834 - acc: 0.8591 - val_loss: 1.2750 - val_acc: 0.6406\n",
      "\n",
      "Epoch 00027: val_loss did not improve from 1.03932\n",
      "Epoch 28/50\n",
      "574/574 [==============================] - 34s 60ms/step - loss: 0.3614 - acc: 0.8694 - val_loss: 1.5155 - val_acc: 0.5940\n",
      "\n",
      "Epoch 00028: val_loss did not improve from 1.03932\n",
      "Epoch 29/50\n",
      "574/574 [==============================] - 35s 60ms/step - loss: 0.3604 - acc: 0.8686 - val_loss: 1.4067 - val_acc: 0.6211\n",
      "\n",
      "Epoch 00029: val_loss did not improve from 1.03932\n",
      "Epoch 30/50\n",
      "574/574 [==============================] - 34s 60ms/step - loss: 0.3410 - acc: 0.8767 - val_loss: 1.5606 - val_acc: 0.6002\n",
      "\n",
      "Epoch 00030: val_loss did not improve from 1.03932\n",
      "Epoch 31/50\n",
      "574/574 [==============================] - 34s 60ms/step - loss: 0.3351 - acc: 0.8771 - val_loss: 1.4134 - val_acc: 0.6341\n",
      "\n",
      "Epoch 00031: val_loss did not improve from 1.03932\n",
      "Epoch 32/50\n",
      "574/574 [==============================] - 34s 60ms/step - loss: 0.3215 - acc: 0.8823 - val_loss: 1.4790 - val_acc: 0.6115\n",
      "\n",
      "Epoch 00032: val_loss did not improve from 1.03932\n",
      "Epoch 33/50\n",
      "574/574 [==============================] - 34s 60ms/step - loss: 0.3056 - acc: 0.8910 - val_loss: 1.3887 - val_acc: 0.6233\n",
      "\n",
      "Epoch 00033: val_loss did not improve from 1.03932\n",
      "Epoch 34/50\n",
      "574/574 [==============================] - 34s 60ms/step - loss: 0.3088 - acc: 0.8886 - val_loss: 1.4818 - val_acc: 0.6033\n",
      "\n",
      "Epoch 00034: val_loss did not improve from 1.03932\n",
      "Epoch 35/50\n",
      "574/574 [==============================] - 34s 60ms/step - loss: 0.2920 - acc: 0.8953 - val_loss: 1.5944 - val_acc: 0.5903\n",
      "\n",
      "Epoch 00035: val_loss did not improve from 1.03932\n",
      "Epoch 36/50\n",
      "574/574 [==============================] - 35s 60ms/step - loss: 0.2850 - acc: 0.8981 - val_loss: 1.4270 - val_acc: 0.6233\n",
      "\n",
      "Epoch 00036: val_loss did not improve from 1.03932\n",
      "Epoch 37/50\n",
      "574/574 [==============================] - 34s 60ms/step - loss: 0.2715 - acc: 0.9006 - val_loss: 1.5082 - val_acc: 0.6188\n",
      "\n",
      "Epoch 00037: val_loss did not improve from 1.03932\n",
      "Epoch 38/50\n",
      "574/574 [==============================] - 34s 60ms/step - loss: 0.2688 - acc: 0.9054 - val_loss: 1.5749 - val_acc: 0.6315\n",
      "\n",
      "Epoch 00038: val_loss did not improve from 1.03932\n",
      "Epoch 39/50\n",
      "574/574 [==============================] - 34s 60ms/step - loss: 0.2527 - acc: 0.9095 - val_loss: 1.5009 - val_acc: 0.6378\n",
      "\n",
      "Epoch 00039: val_loss did not improve from 1.03932\n",
      "Epoch 40/50\n",
      "574/574 [==============================] - 34s 60ms/step - loss: 0.2480 - acc: 0.9129 - val_loss: 1.4909 - val_acc: 0.6431\n",
      "\n",
      "Epoch 00040: val_loss did not improve from 1.03932\n",
      "Epoch 41/50\n",
      "574/574 [==============================] - 34s 60ms/step - loss: 0.2436 - acc: 0.9130 - val_loss: 1.7685 - val_acc: 0.5841\n",
      "\n",
      "Epoch 00041: val_loss did not improve from 1.03932\n",
      "Epoch 42/50\n",
      "574/574 [==============================] - 34s 60ms/step - loss: 0.2400 - acc: 0.9146 - val_loss: 1.7325 - val_acc: 0.5942\n",
      "\n",
      "Epoch 00042: val_loss did not improve from 1.03932\n",
      "Epoch 43/50\n",
      "574/574 [==============================] - 34s 60ms/step - loss: 0.2368 - acc: 0.9162 - val_loss: 1.5329 - val_acc: 0.6369\n",
      "\n",
      "Epoch 00043: val_loss did not improve from 1.03932\n",
      "Epoch 44/50\n",
      "574/574 [==============================] - 34s 60ms/step - loss: 0.2404 - acc: 0.9136 - val_loss: 1.5058 - val_acc: 0.6378\n",
      "\n",
      "Epoch 00044: val_loss did not improve from 1.03932\n",
      "Epoch 45/50\n",
      "574/574 [==============================] - 34s 60ms/step - loss: 0.2281 - acc: 0.9200 - val_loss: 1.5521 - val_acc: 0.6358\n",
      "\n",
      "Epoch 00045: val_loss did not improve from 1.03932\n",
      "Epoch 46/50\n",
      "574/574 [==============================] - 34s 60ms/step - loss: 0.2149 - acc: 0.9241 - val_loss: 1.6153 - val_acc: 0.6267\n",
      "\n",
      "Epoch 00046: val_loss did not improve from 1.03932\n",
      "Epoch 47/50\n",
      "574/574 [==============================] - 35s 60ms/step - loss: 0.2164 - acc: 0.9226 - val_loss: 1.6813 - val_acc: 0.6095\n",
      "\n",
      "Epoch 00047: val_loss did not improve from 1.03932\n",
      "Epoch 48/50\n",
      "574/574 [==============================] - 34s 60ms/step - loss: 0.2155 - acc: 0.9245 - val_loss: 1.6300 - val_acc: 0.6332\n",
      "\n",
      "Epoch 00048: val_loss did not improve from 1.03932\n",
      "Epoch 49/50\n",
      "574/574 [==============================] - 34s 60ms/step - loss: 0.2173 - acc: 0.9226 - val_loss: 1.6367 - val_acc: 0.6281\n",
      "\n",
      "Epoch 00049: val_loss did not improve from 1.03932\n",
      "Epoch 50/50\n",
      "574/574 [==============================] - 34s 60ms/step - loss: 0.2098 - acc: 0.9251 - val_loss: 1.6156 - val_acc: 0.6287\n",
      "\n",
      "Epoch 00050: val_loss did not improve from 1.03932\n"
     ]
    },
    {
     "data": {
      "text/plain": [
       "<keras.callbacks.History at 0x7f50357ef278>"
      ]
     },
     "execution_count": 282,
     "metadata": {
      "tags": []
     },
     "output_type": "execute_result"
    }
   ],
   "source": [
    "from keras.callbacks import ModelCheckpoint\n",
    "# Training the model :\n",
    "epochs = 50\n",
    "checkpoint = ModelCheckpoint('checkpoint/model_wts.h5' , save_best_only=True , verbose = 1 )\n",
    "callbacks_list = [checkpoint]\n",
    "\n",
    "model.fit_generator(generator=train_gen,\n",
    "                    steps_per_epoch =train_gen.n // batch_size,\n",
    "                    epochs = epochs,\n",
    "                    validation_data = test_gen,\n",
    "                    validation_steps = test_gen.n // batch_size,\n",
    "                    callbacks = callbacks_list\n",
    "                   )"
   ]
  },
  {
   "cell_type": "code",
   "execution_count": 0,
   "metadata": {
    "colab": {},
    "colab_type": "code",
    "id": "Lw6KESkaikcs"
   },
   "outputs": [],
   "source": [
    "# Save the model arch:\n",
    "model_json  = model.to_json() \n",
    "with open('checkpoint/model.json' , 'w') as json_file:\n",
    "  json_file.write(model_json)"
   ]
  },
  {
   "cell_type": "code",
   "execution_count": 0,
   "metadata": {
    "colab": {
     "base_uri": "https://localhost:8080/",
     "height": 51
    },
    "colab_type": "code",
    "executionInfo": {
     "elapsed": 14926,
     "status": "ok",
     "timestamp": 1563378784451,
     "user": {
      "displayName": "Bhargav Vadlamudi",
      "photoUrl": "https://lh6.googleusercontent.com/-gP0i6GtW3EI/AAAAAAAAAAI/AAAAAAAALM4/NMQYDBQlknI/s64/photo.jpg",
      "userId": "05658260374509821760"
     },
     "user_tz": -420
    },
    "id": "o2CsC0MJ1AUW",
    "outputId": "efe16af0-16e9-44bf-9000-255e54f15e33"
   },
   "outputs": [
    {
     "name": "stdout",
     "output_type": "stream",
     "text": [
      "Train Eval :[0.7350928347193546, 0.7381308997199347]\n",
      "Test Eval :[1.04469251373612, 0.6076901643953472]\n"
     ]
    }
   ],
   "source": [
    "# load the checkpoint and  Evaluate the model :\n",
    "\n",
    "model.load_weights( 'checkpoint/model_wts.h5' )\n",
    "\n",
    "train_scores = model.evaluate(np.array(x_train),np.array(y_train),verbose = 0)\n",
    "test_scores = model.evaluate(np.array(x_test),np.array(y_test),verbose = 0)\n",
    "\n",
    "print('Train Eval :{}'.format(train_scores))\n",
    "print('Test Eval :{}'.format(test_scores))"
   ]
  },
  {
   "cell_type": "code",
   "execution_count": 0,
   "metadata": {
    "colab": {},
    "colab_type": "code",
    "id": "FUdCzPfA5qTm"
   },
   "outputs": [],
   "source": [
    "def plot_confusion_matrix(cm, classes, title='Confusion matrix', cmap=plt.cm.Blues):\n",
    "    cm = cm.astype('float') / cm.sum(axis=1)[:, np.newaxis]\n",
    "    plt.figure(figsize=(10,10))\n",
    "    plt.imshow(cm, interpolation='nearest', cmap=cmap)\n",
    "    plt.title(title)\n",
    "    plt.colorbar()\n",
    "    tick_marks = np.arange(len(classes))\n",
    "    plt.xticks(tick_marks, classes, rotation=45)\n",
    "    plt.yticks(tick_marks, classes)\n",
    "\n",
    "    fmt = '.2f'\n",
    "    thresh = cm.max() / 2.\n",
    "    for i, j in itertools.product(range(cm.shape[0]), range(cm.shape[1])):\n",
    "        plt.text(j, i, format(cm[i, j], fmt),\n",
    "                 horizontalalignment=\"center\",\n",
    "                 color=\"white\" if cm[i, j] > thresh else \"black\")\n",
    "\n",
    "    plt.ylabel('True label')\n",
    "    plt.xlabel('Predicted label')\n",
    "    plt.tight_layout()"
   ]
  },
  {
   "cell_type": "code",
   "execution_count": 0,
   "metadata": {
    "colab": {
     "base_uri": "https://localhost:8080/",
     "height": 744
    },
    "colab_type": "code",
    "executionInfo": {
     "elapsed": 5232,
     "status": "ok",
     "timestamp": 1563378801374,
     "user": {
      "displayName": "Bhargav Vadlamudi",
      "photoUrl": "https://lh6.googleusercontent.com/-gP0i6GtW3EI/AAAAAAAAAAI/AAAAAAAALM4/NMQYDBQlknI/s64/photo.jpg",
      "userId": "05658260374509821760"
     },
     "user_tz": -420
    },
    "id": "eAfJFMjqoYBR",
    "outputId": "cf329ef9-2b03-442a-d5ce-4407abcdbf24"
   },
   "outputs": [
    {
     "data": {
      "text/plain": [
       "<Figure size 432x288 with 0 Axes>"
      ]
     },
     "metadata": {
      "tags": []
     },
     "output_type": "display_data"
    },
    {
     "data": {
      "image/png": "[encoded data removed]",
      "text/plain": [
       "<Figure size 720x720 with 2 Axes>"
      ]
     },
     "metadata": {
      "tags": []
     },
     "output_type": "display_data"
    }
   ],
   "source": [
    "from sklearn.metrics import confusion_matrix\n",
    "import itertools\n",
    "# Compute Predictions & plot confusion matrix :\n",
    "test_gen.reset()\n",
    "predictions = model.predict(x_test)\n",
    "\n",
    "y_pred = [np.argmax(prob) for prob in predictions]\n",
    "y_actual = [np.argmax(i) for i in y_test ]\n",
    "\n",
    "conf_matrix = confusion_matrix( y_pred , y_actual )\n",
    "\n",
    "# plot normalized confusion matrix\n",
    "np.set_printoptions(precision=2)\n",
    "plt.figure()\n",
    "plot_confusion_matrix(conf_matrix, classes=label_names, title='Normalized confusion matrix')\n",
    "plt.show()"
   ]
  },
  {
   "cell_type": "code",
   "execution_count": 0,
   "metadata": {
    "colab": {
     "base_uri": "https://localhost:8080/",
     "height": 136
    },
    "colab_type": "code",
    "executionInfo": {
     "elapsed": 1572,
     "status": "ok",
     "timestamp": 1563371093598,
     "user": {
      "displayName": "Bhargav Vadlamudi",
      "photoUrl": "https://lh6.googleusercontent.com/-gP0i6GtW3EI/AAAAAAAAAAI/AAAAAAAALM4/NMQYDBQlknI/s64/photo.jpg",
      "userId": "05658260374509821760"
     },
     "user_tz": -420
    },
    "id": "4c42eekO06M3",
    "outputId": "cbab99f0-7611-4484-8f62-19b8835a55a7"
   },
   "outputs": [
    {
     "data": {
      "text/plain": [
       "array([[242,  14,  52,  21,  86,  16,  60],\n",
       "       [ 10,  26,   2,   1,   2,   1,   0],\n",
       "       [ 23,   1, 110,   7,  20,  20,  10],\n",
       "       [ 46,   3,  51, 766,  56,  40,  68],\n",
       "       [ 83,   8, 156,  27, 362,  13, 116],\n",
       "       [ 12,   0,  47,  11,  11, 308,   9],\n",
       "       [ 51,   4,  78,  62, 116,  17, 344]])"
      ]
     },
     "execution_count": 182,
     "metadata": {
      "tags": []
     },
     "output_type": "execute_result"
    }
   ],
   "source": [
    "conf_matrix"
   ]
  },
  {
   "cell_type": "code",
   "execution_count": 0,
   "metadata": {
    "colab": {},
    "colab_type": "code",
    "id": "Pb3wFEfs1Pfk"
   },
   "outputs": [],
   "source": [
    "# Make a fun to give us the predictions :\n",
    "from keras.models import model_from_json\n",
    "import numpy as np \n",
    "\n",
    "class Facial_exp_model(object):\n",
    "  emotions_list = ['Angry', 'Disgust', 'Fear', 'Happy', 'Sad', 'Surprise', 'Neutral']\n",
    "  def __init__(self, model_json , model_weights):\n",
    "    # load json model :\n",
    "    with open(model_json , 'r') as json_file:\n",
    "      self.loaded_model = model_from_json( json_file.read() )\n",
    "      \n",
    "    # Load wts in the new model :\n",
    "    self.loaded_model.load_weights( model_weights )\n",
    "    self.loaded_model._make_predict_function()\n",
    "  \n",
    "  def predict_emotion(self, img):\n",
    "    self.prediction = self.loaded_model.predict(img)\n",
    "    print(self.prediction)\n",
    "    return Facial_exp_model.emotions_list[ np.argmax(self.prediction) ]"
   ]
  },
  {
   "cell_type": "code",
   "execution_count": 0,
   "metadata": {
    "colab": {
     "base_uri": "https://localhost:8080/",
     "height": 74,
     "resources": {
      "http://localhost:8080/nbextensions/google.colab/files.js": {
       "data": "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",
       "headers": [
        [
         "content-type",
         "application/javascript"
        ]
       ],
       "ok": true,
       "status": 200,
       "status_text": ""
      }
     }
    },
    "colab_type": "code",
    "executionInfo": {
     "elapsed": 12454,
     "status": "ok",
     "timestamp": 1563372282996,
     "user": {
      "displayName": "Bhargav Vadlamudi",
      "photoUrl": "https://lh6.googleusercontent.com/-gP0i6GtW3EI/AAAAAAAAAAI/AAAAAAAALM4/NMQYDBQlknI/s64/photo.jpg",
      "userId": "05658260374509821760"
     },
     "user_tz": -420
    },
    "id": "URndizZ1Pe1l",
    "outputId": "66e4850c-bd75-411a-8ada-56f371dddbb2"
   },
   "outputs": [
    {
     "data": {
      "text/html": [
       "\n",
       "     <input type=\"file\" id=\"files-488916ac-4a17-4c93-92cf-ce86ae60c32c\" name=\"files[]\" multiple disabled />\n",
       "     <output id=\"result-488916ac-4a17-4c93-92cf-ce86ae60c32c\">\n",
       "      Upload widget is only available when the cell has been executed in the\n",
       "      current browser session. Please rerun this cell to enable.\n",
       "      </output>\n",
       "      <script src=\"/nbextensions/google.colab/files.js\"></script> "
      ],
      "text/plain": [
       "<IPython.core.display.HTML object>"
      ]
     },
     "metadata": {
      "tags": []
     },
     "output_type": "display_data"
    },
    {
     "name": "stdout",
     "output_type": "stream",
     "text": [
      "Saving WIN_20190717_21_03_57_Pro.jpg to WIN_20190717_21_03_57_Pro.jpg\n"
     ]
    }
   ],
   "source": [
    "# Upload an image to test the model :\n",
    "\n",
    "from google.colab import files \n",
    "uploaded = files.upload()"
   ]
  },
  {
   "cell_type": "code",
   "execution_count": 0,
   "metadata": {
    "colab": {},
    "colab_type": "code",
    "id": "wc_jp_Jn1XA6"
   },
   "outputs": [],
   "source": [
    "loaded_model = Facial_exp_model( 'checkpoint/model.json' , 'checkpoint/model_wts.h5'  )"
   ]
  },
  {
   "cell_type": "code",
   "execution_count": 17,
   "metadata": {
    "colab": {
     "base_uri": "https://localhost:8080/",
     "height": 133
    },
    "colab_type": "code",
    "executionInfo": {
     "elapsed": 1740,
     "status": "ok",
     "timestamp": 1563423412812,
     "user": {
      "displayName": "Bhargav Vadlamudi",
      "photoUrl": "https://lh6.googleusercontent.com/-gP0i6GtW3EI/AAAAAAAAAAI/AAAAAAAALM4/NMQYDBQlknI/s64/photo.jpg",
      "userId": "05658260374509821760"
     },
     "user_tz": -420
    },
    "id": "RBtZ_GbianMu",
    "outputId": "20c4d9c0-a6dd-4dd6-ec04-5efef12fcf87"
   },
   "outputs": [
    {
     "data": {
      "image/png": "[encoded data removed]",
      "text/plain": [
       "<PIL.Image.Image image mode=L size=48x48 at 0x7FEC3094C048>"
      ]
     },
     "metadata": {
      "tags": []
     },
     "output_type": "display_data"
    },
    {
     "name": "stdout",
     "output_type": "stream",
     "text": [
      "(1, 48, 48, 1)\n",
      "[[2.9961103e-01 2.0377523e-04 3.4761358e-02 1.3669546e-01 1.0768880e-01\n",
      "  2.3524059e-02 3.9751548e-01]]\n"
     ]
    },
    {
     "data": {
      "text/plain": [
       "'Neutral'"
      ]
     },
     "execution_count": 17,
     "metadata": {
      "tags": []
     },
     "output_type": "execute_result"
    }
   ],
   "source": [
    "import cv2\n",
    "img = cv2.imread( 'Test/3.jpg')\n",
    "img_gray = cv2.cvtColor(img, cv2.COLOR_BGR2GRAY)\n",
    "gray = cv2.resize(img_gray , pic_size)\n",
    "from google.colab.patches import cv2_imshow\n",
    "cv2_imshow(gray)\n",
    "\n",
    "gray = np.expand_dims(gray, axis = 0)\n",
    "gray = np.expand_dims(gray, axis = 3)\n",
    "print(gray.shape)\n",
    "loaded_model.predict_emotion( gray )"
   ]
  },
  {
   "cell_type": "code",
   "execution_count": 0,
   "metadata": {
    "colab": {},
    "colab_type": "code",
    "id": "9wQWlE0XQOnP"
   },
   "outputs": [],
   "source": [
    "faceCascade = cv2.CascadeClassifier('opencv/haarcascade_frontalface_alt2.xml')\n",
    "from google.colab.patches import cv2_imshow\n",
    "def test_image(addr):\n",
    "    target = ['angry','disgust','fear','happy','sad','surprise','neutral']\n",
    "    font = cv2.FONT_HERSHEY_SIMPLEX\n",
    "    \n",
    "    im = cv2.imread(addr)\n",
    "    gray = cv2.cvtColor(im, cv2.COLOR_BGR2GRAY)\n",
    "    faces = faceCascade.detectMultiScale(gray,scaleFactor=1.6)\n",
    "    print(faces)\n",
    "    for (x, y, w, h) in faces:\n",
    "            cv2.rectangle(im, (x, y), (x+w, y+h), (0, 255, 0), 2,5)\n",
    "            face_crop = im[y:y+h,x:x+w]\n",
    "            cv2_imshow( face_crop)\n",
    "            \n",
    "            face_crop = cv2.resize(face_crop,(48,48))\n",
    "            \n",
    "            face_crop = cv2.cvtColor(face_crop, cv2.COLOR_BGR2GRAY)\n",
    "            face_crop = face_crop.astype('float32')/255\n",
    "            face_crop = np.asarray(face_crop)\n",
    "            face_crop = face_crop.reshape(1, face_crop.shape[0],face_crop.shape[1] , 1 )\n",
    "            result = loaded_model.predict_emotion(face_crop)\n",
    "            cv2.putText(im,result,(x,y), font, 1, (200,0,0), 3, cv2.LINE_AA)\n",
    "            \n",
    "    cv2_imshow( im)\n",
    "    #cv2.imshow('result', im)\n",
    "    #cv2.imwrite('result.jpg',im)\n",
    "    #cv2.waitKey(0) "
   ]
  },
  {
   "cell_type": "code",
   "execution_count": 22,
   "metadata": {
    "colab": {
     "base_uri": "https://localhost:8080/",
     "height": 1000,
     "output_embedded_package_id": "1iGx7NbmOdPOTkhN3tjx3t02PZXWsX9JN"
    },
    "colab_type": "code",
    "executionInfo": {
     "elapsed": 8997,
     "status": "ok",
     "timestamp": 1563423557775,
     "user": {
      "displayName": "Bhargav Vadlamudi",
      "photoUrl": "https://lh6.googleusercontent.com/-gP0i6GtW3EI/AAAAAAAAAAI/AAAAAAAALM4/NMQYDBQlknI/s64/photo.jpg",
      "userId": "05658260374509821760"
     },
     "user_tz": -420
    },
    "id": "pZS5AxB2Wjc-",
    "outputId": "e9c4d3b4-c0ff-4a44-cc63-77d7f6a00488"
   },
   "outputs": [
    {
     "data": {
      "text/plain": [
       "Output hidden; open in https://colab.research.google.com to view."
      ]
     },
     "metadata": {},
     "output_type": "display_data"
    }
   ],
   "source": [
    "test_image('Test/1.jpg')\n",
    "#[[0.26449114 0.00360092 0.07811324 0.08801343 0.36980423 0.06378473 , 0.13219224]]"
   ]
  },
  {
   "cell_type": "code",
   "execution_count": 0,
   "metadata": {
    "colab": {},
    "colab_type": "code",
    "id": "99rzHLYP0PE5"
   },
   "outputs": [],
   "source": []
  },
  {
   "cell_type": "code",
   "execution_count": 0,
   "metadata": {
    "colab": {},
    "colab_type": "code",
    "id": "6H6n3feU0lgj"
   },
   "outputs": [],
   "source": []
  }
 ],
 "metadata": {
  "accelerator": "GPU",
  "colab": {
   "collapsed_sections": [],
   "name": "face_expression.ipynb",
   "provenance": [],
   "version": "0.3.2"
  },
  "kernelspec": {
   "display_name": "Python 3",
   "language": "python",
   "name": "python3"
  },
  "language_info": {
   "codemirror_mode": {
    "name": "ipython",
    "version": 3
   },
   "file_extension": ".py",
   "mimetype": "text/x-python",
   "name": "python",
   "nbconvert_exporter": "python",
   "pygments_lexer": "ipython3",
   "version": "3.6.8"
  }
 },
 "nbformat": 4,
 "nbformat_minor": 1
}
